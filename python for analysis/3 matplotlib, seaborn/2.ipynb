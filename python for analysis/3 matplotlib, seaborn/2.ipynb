{
 "cells": [
  {
   "cell_type": "code",
   "execution_count": 17,
   "source": [
    "import matplotlib\r\n",
    "import numpy as np\r\n",
    "import pandas as pd\r\n",
    "from matplotlib import pyplot as plt\r\n",
    "import seaborn as sns\r\n",
    "\r\n"
   ],
   "outputs": [],
   "metadata": {}
  },
  {
   "cell_type": "code",
   "execution_count": 2,
   "source": [
    "df_kiva_loans = pd.read_csv(\"kiva_loans.csv\")\r\n",
    "df_mpi = pd.read_csv(\"kiva_mpi_region_locations.csv\")"
   ],
   "outputs": [],
   "metadata": {}
  },
  {
   "cell_type": "code",
   "execution_count": 6,
   "source": [
    "print(df_kiva_loans.info())\r\n"
   ],
   "outputs": [
    {
     "output_type": "stream",
     "name": "stdout",
     "text": [
      "<class 'pandas.core.frame.DataFrame'>\n",
      "RangeIndex: 671205 entries, 0 to 671204\n",
      "Data columns (total 20 columns):\n",
      " #   Column              Non-Null Count   Dtype  \n",
      "---  ------              --------------   -----  \n",
      " 0   id                  671205 non-null  int64  \n",
      " 1   funded_amount       671205 non-null  float64\n",
      " 2   loan_amount         671205 non-null  float64\n",
      " 3   activity            671205 non-null  object \n",
      " 4   sector              671205 non-null  object \n",
      " 5   use                 666973 non-null  object \n",
      " 6   country_code        671197 non-null  object \n",
      " 7   country             671205 non-null  object \n",
      " 8   region              614405 non-null  object \n",
      " 9   currency            671205 non-null  object \n",
      " 10  partner_id          657698 non-null  float64\n",
      " 11  posted_time         671205 non-null  object \n",
      " 12  disbursed_time      668809 non-null  object \n",
      " 13  funded_time         622874 non-null  object \n",
      " 14  term_in_months      671205 non-null  float64\n",
      " 15  lender_count        671205 non-null  int64  \n",
      " 16  tags                499789 non-null  object \n",
      " 17  borrower_genders    666984 non-null  object \n",
      " 18  repayment_interval  671205 non-null  object \n",
      " 19  date                671205 non-null  object \n",
      "dtypes: float64(4), int64(2), object(14)\n",
      "memory usage: 102.4+ MB\n",
      "None\n"
     ]
    }
   ],
   "metadata": {}
  },
  {
   "cell_type": "code",
   "execution_count": 7,
   "source": [
    "print(df_mpi.info())"
   ],
   "outputs": [
    {
     "output_type": "stream",
     "name": "stdout",
     "text": [
      "<class 'pandas.core.frame.DataFrame'>\n",
      "RangeIndex: 2772 entries, 0 to 2771\n",
      "Data columns (total 9 columns):\n",
      " #   Column        Non-Null Count  Dtype  \n",
      "---  ------        --------------  -----  \n",
      " 0   LocationName  984 non-null    object \n",
      " 1   ISO           1008 non-null   object \n",
      " 2   country       1008 non-null   object \n",
      " 3   region        984 non-null    object \n",
      " 4   world_region  1008 non-null   object \n",
      " 5   MPI           984 non-null    float64\n",
      " 6   geo           2772 non-null   object \n",
      " 7   lat           892 non-null    float64\n",
      " 8   lon           892 non-null    float64\n",
      "dtypes: float64(3), object(6)\n",
      "memory usage: 195.0+ KB\n",
      "None\n"
     ]
    }
   ],
   "metadata": {}
  },
  {
   "cell_type": "code",
   "execution_count": 9,
   "source": [
    "data = df_kiva_loans.merge(df_mpi,how = 'left', on = 'country' )"
   ],
   "outputs": [],
   "metadata": {}
  },
  {
   "cell_type": "code",
   "execution_count": 10,
   "source": [
    "print(data.head())"
   ],
   "outputs": [
    {
     "output_type": "stream",
     "name": "stdout",
     "text": [
      "       id  funded_amount  loan_amount             activity sector  \\\n",
      "0  653051          300.0        300.0  Fruits & Vegetables   Food   \n",
      "1  653051          300.0        300.0  Fruits & Vegetables   Food   \n",
      "2  653051          300.0        300.0  Fruits & Vegetables   Food   \n",
      "3  653051          300.0        300.0  Fruits & Vegetables   Food   \n",
      "4  653051          300.0        300.0  Fruits & Vegetables   Food   \n",
      "\n",
      "                                       use country_code   country region_x  \\\n",
      "0  To buy seasonal, fresh fruits to sell.            PK  Pakistan   Lahore   \n",
      "1  To buy seasonal, fresh fruits to sell.            PK  Pakistan   Lahore   \n",
      "2  To buy seasonal, fresh fruits to sell.            PK  Pakistan   Lahore   \n",
      "3  To buy seasonal, fresh fruits to sell.            PK  Pakistan   Lahore   \n",
      "4  To buy seasonal, fresh fruits to sell.            PK  Pakistan   Lahore   \n",
      "\n",
      "  currency  ...  repayment_interval        date                  LocationName  \\\n",
      "0      PKR  ...           irregular  2014-01-01              Punjab, Pakistan   \n",
      "1      PKR  ...           irregular  2014-01-01               Sindh, Pakistan   \n",
      "2      PKR  ...           irregular  2014-01-01  Khyber Pakhtunkhwa, Pakistan   \n",
      "3      PKR  ...           irregular  2014-01-01         Balochistan, Pakistan   \n",
      "4      PKR  ...           irregular  2014-01-01    Gilgit Baltistan, Pakistan   \n",
      "\n",
      "   ISO            region_y  world_region    MPI  \\\n",
      "0  PAK              Punjab    South Asia  0.184   \n",
      "1  PAK               Sindh    South Asia  0.294   \n",
      "2  PAK  Khyber Pakhtunkhwa    South Asia  0.247   \n",
      "3  PAK         Balochistan    South Asia  0.402   \n",
      "4  PAK    Gilgit Baltistan    South Asia  0.233   \n",
      "\n",
      "                               geo        lat        lon  \n",
      "0         (31.1704063, 72.7097161)  31.170406  72.709716  \n",
      "1  (25.8943018, 68.52471489999999)  25.894302  68.524715  \n",
      "2          (34.9526205, 72.331113)  34.952621  72.331113  \n",
      "3         (28.4907332, 65.0957792)  28.490733  65.095779  \n",
      "4  (35.80256670000001, 74.9831808)  35.802567  74.983181  \n",
      "\n",
      "[5 rows x 28 columns]\n"
     ]
    }
   ],
   "metadata": {}
  },
  {
   "cell_type": "code",
   "execution_count": 13,
   "source": [
    "print(data.describe(include=[np.number]))"
   ],
   "outputs": [
    {
     "output_type": "stream",
     "name": "stdout",
     "text": [
      "                 id  funded_amount   loan_amount    partner_id  \\\n",
      "count  7.996951e+06   7.996951e+06  7.996951e+06  7.924840e+06   \n",
      "mean   9.922691e+05   6.081604e+02  6.413726e+02  1.828852e+02   \n",
      "std    1.971461e+05   8.793740e+02  9.164127e+02  8.867705e+01   \n",
      "min    6.530470e+05   0.000000e+00  2.500000e+01  9.000000e+00   \n",
      "25%    8.193810e+05   2.250000e+02  2.250000e+02  1.360000e+02   \n",
      "50%    9.884050e+05   3.750000e+02  4.000000e+02  1.450000e+02   \n",
      "75%    1.162960e+06   6.750000e+02  7.250000e+02  2.040000e+02   \n",
      "max    1.340339e+06   1.000000e+05  1.000000e+05  5.360000e+02   \n",
      "\n",
      "       term_in_months  lender_count           MPI           lat           lon  \n",
      "count    7.996951e+06  7.996951e+06  7.879324e+06  7.481747e+06  7.481747e+06  \n",
      "mean     1.269593e+01  1.623748e+01  1.250728e-01  7.958587e+00  4.040228e+01  \n",
      "std      7.591740e+00  2.356933e+01  1.326881e-01  1.181548e+01  8.172780e+01  \n",
      "min      1.000000e+00  0.000000e+00  0.000000e+00 -3.040157e+01 -1.227471e+02  \n",
      "25%      8.000000e+00  6.000000e+00  3.900000e-02  1.269219e+00 -1.324326e+01  \n",
      "50%      1.200000e+01  1.100000e+01  7.000000e-02  1.047906e+01  4.011694e+01  \n",
      "75%      1.400000e+01  1.900000e+01  1.620000e-01  1.386620e+01  1.210794e+02  \n",
      "max      1.580000e+02  2.986000e+03  6.980000e-01  4.926475e+01  1.380804e+02  \n"
     ]
    }
   ],
   "metadata": {}
  },
  {
   "cell_type": "code",
   "execution_count": 14,
   "source": [
    "print(data.describe(include=[np.object]))"
   ],
   "outputs": [
    {
     "output_type": "stream",
     "name": "stderr",
     "text": [
      "<ipython-input-14-2b573af4e6f5>:1: DeprecationWarning: `np.object` is a deprecated alias for the builtin `object`. To silence this warning, use `object` by itself. Doing this will not modify any behavior and is safe. \n",
      "Deprecated in NumPy 1.20; for more details and guidance: https://numpy.org/devdocs/release/1.20.0-notes.html#deprecations\n",
      "  print(data.describe(include=[np.object]))\n"
     ]
    },
    {
     "output_type": "stream",
     "name": "stdout",
     "text": [
      "       activity       sector  \\\n",
      "count   7996951      7996951   \n",
      "unique      163           15   \n",
      "top     Farming  Agriculture   \n",
      "freq     952960      2172386   \n",
      "\n",
      "                                                      use country_code  \\\n",
      "count                                             7950282      7996847   \n",
      "unique                                             424912           86   \n",
      "top     to buy a water filter to provide safe drinking...           PH   \n",
      "freq                                                99123      2727497   \n",
      "\n",
      "            country region_x currency                posted_time  \\\n",
      "count       7996951  7466880  7996951                    7996951   \n",
      "unique           87    12695       67                     667399   \n",
      "top     Philippines   Kaduna      PHP  2016-12-14 14:00:06+00:00   \n",
      "freq        2727497   370000  2727480                         74   \n",
      "\n",
      "                   disbursed_time                funded_time           tags  \\\n",
      "count                     7991888                    7502551        5711184   \n",
      "unique                       5719                     498007          86719   \n",
      "top     2015-12-07 08:00:00+00:00  2016-09-21 13:03:24+00:00  user_favorite   \n",
      "freq                        75556                        561         313798   \n",
      "\n",
      "       borrower_genders repayment_interval        date       LocationName  \\\n",
      "count           7950363            7996951     7996951            7879324   \n",
      "unique            11298                  4        1298                720   \n",
      "top              female          irregular  2017-03-20  Armm, Philippines   \n",
      "freq            5077989            3512474       16703             160441   \n",
      "\n",
      "            ISO region_y               world_region               geo  \n",
      "count   7916186  7879324                    7916186           7916186  \n",
      "unique       62      684                          6               663  \n",
      "top         PHL     Armm  East Asia and the Pacific  (1000.0, 1000.0)  \n",
      "freq    2727497   160441                    3660081            434439  \n"
     ]
    }
   ],
   "metadata": {}
  },
  {
   "cell_type": "markdown",
   "source": [
    "1.\tЗависимость пола заемщика от региона планеты, сектора экономики"
   ],
   "metadata": {}
  },
  {
   "cell_type": "code",
   "execution_count": 16,
   "source": [
    "data['borrower_genders'] = [elem if elem in ['female','male'] else 'group' for elem in data['borrower_genders']]"
   ],
   "outputs": [],
   "metadata": {}
  },
  {
   "cell_type": "code",
   "execution_count": 19,
   "source": [
    "data['world_region'].unique()"
   ],
   "outputs": [
    {
     "output_type": "execute_result",
     "data": {
      "text/plain": [
       "array(['South Asia', 'Sub-Saharan Africa', 'Latin America and Caribbean',\n",
       "       nan, 'East Asia and the Pacific', 'Arab States',\n",
       "       'Europe and Central Asia'], dtype=object)"
      ]
     },
     "metadata": {},
     "execution_count": 19
    }
   ],
   "metadata": {}
  },
  {
   "cell_type": "code",
   "execution_count": 23,
   "source": [
    "len(data)"
   ],
   "outputs": [
    {
     "output_type": "execute_result",
     "data": {
      "text/plain": [
       "7996951"
      ]
     },
     "metadata": {},
     "execution_count": 23
    }
   ],
   "metadata": {}
  },
  {
   "cell_type": "code",
   "execution_count": 26,
   "source": [
    "plt.figure(figsize = (20,10))\r\n",
    "x = np.asarray([0,1,2])\r\n",
    "width = 0.15\r\n",
    "i = -7.5\r\n",
    "for name, group in data.groupby(['sector']):\r\n",
    "    plt.bar(x-i*width, group.groupby('borrower_genders').size().values/1000, width=width/4, label = name)\r\n",
    "    i+=1\r\n",
    "plt.title('Зависимость пола заемщика от сектора экономики')\r\n",
    "plt.xticks(x,list(data.groupby('borrower_genders').groups.keys()))\r\n",
    "plt.legend()"
   ],
   "outputs": [
    {
     "output_type": "execute_result",
     "data": {
      "text/plain": [
       "<matplotlib.legend.Legend at 0x1a6ca6b4490>"
      ]
     },
     "metadata": {},
     "execution_count": 26
    },
    {
     "output_type": "display_data",
     "data": {
      "image/png": "[encoded data removed]",
      "text/plain": [
       "<Figure size 1440x720 with 1 Axes>"
      ]
     },
     "metadata": {
      "needs_background": "light"
     }
    }
   ],
   "metadata": {}
  },
  {
   "cell_type": "code",
   "execution_count": null,
   "source": [
    "plt.figure(figsize = (20,10))\r\n",
    "x = np.asarray([0,1,2])\r\n",
    "width = 0.15\r\n",
    "i = -2.5\r\n",
    "for name, group in data.groupby(['world_region']):\r\n",
    "    plt.bar(x-i*width, group.groupby('borrower_genders').size().values/1000, width, label = name)\r\n",
    "    i+=1\r\n",
    "plt.title('Зависимость пола заемщика от региона планеты')\r\n",
    "plt.xticks(x,list(data.groupby('borrower_genders').groups.keys()))\r\n",
    "plt.legend()"
   ],
   "outputs": [],
   "metadata": {}
  }
 ],
 "metadata": {
  "orig_nbformat": 4,
  "language_info": {
   "name": "python",
   "version": "3.9.5",
   "mimetype": "text/x-python",
   "codemirror_mode": {
    "name": "ipython",
    "version": 3
   },
   "pygments_lexer": "ipython3",
   "nbconvert_exporter": "python",
   "file_extension": ".py"
  },
  "kernelspec": {
   "name": "python3",
   "display_name": "Python 3.9.5 64-bit ('myenv': conda)"
  },
  "interpreter": {
   "hash": "72fbcaa677195fa6cf10105ece54a850f6e59e10e09803d1293fa0ec1aaa319c"
  }
 },
 "nbformat": 4,
 "nbformat_minor": 2
}