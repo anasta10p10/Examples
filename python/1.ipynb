{
 "metadata": {
  "language_info": {
   "codemirror_mode": {
    "name": "ipython",
    "version": 3
   },
   "file_extension": ".py",
   "mimetype": "text/x-python",
   "name": "python",
   "nbconvert_exporter": "python",
   "pygments_lexer": "ipython3",
   "version": "3.9.5"
  },
  "orig_nbformat": 4,
  "kernelspec": {
   "name": "python3",
   "display_name": "Python 3.9.5 64-bit ('Nastenchik': conda)"
  },
  "interpreter": {
   "hash": "2e085999cfa067f4f86cafdb9e2270402e0c14f3263a519103c4896d6b2c37a0"
  }
 },
 "nbformat": 4,
 "nbformat_minor": 2,
 "cells": [
  {
   "cell_type": "code",
   "execution_count": 2,
   "source": [
    "# Есть словарь товаров с их названиями и id\r\n",
    "\r\n",
    "goods = {\r\n",
    "    'Чай': '12345',\r\n",
    "    'Булка французкая': '23456',\r\n",
    "    'Вино': '34567',\r\n",
    "    'Килька запорожская': '45678',\r\n",
    "}\r\n",
    "# Есть словарь списков количества товаров в магазине.\r\n",
    "\r\n",
    "store = {\r\n",
    "    '12345': [\r\n",
    "        {'quantity': 30, 'price': 42},\r\n",
    "        {'quantity': 14, 'price': 222},\r\n",
    "    ],\r\n",
    "    '23456': [\r\n",
    "        {'quantity': 22, 'price': 510},\r\n",
    "    ],\r\n",
    "    '34567': [\r\n",
    "        {'quantity': 17, 'price': 1100},\r\n",
    "        {'quantity': 10, 'price': 1000},\r\n",
    "    ],\r\n",
    "    '45678': [\r\n",
    "        {'quantity': 50, 'price': 90},\r\n",
    "        {'quantity': 12, 'price': 195},\r\n",
    "        {'quantity': 43, 'price': 197},\r\n",
    "    ],\r\n",
    "}\r\n",
    "# Рассчитать на какую сумму лежит каждого товара в магазине.\r\n",
    "for key, values in goods.items():\r\n",
    "    for key_1, values_1 in store.items():\r\n",
    "        cost=0\r\n",
    "        if values==key_1:\r\n",
    "            for i in values_1:\r\n",
    "                cost+=i['quantity']*i['price']\r\n",
    "            print(key,'=',cost)"
   ],
   "outputs": [
    {
     "output_type": "stream",
     "name": "stdout",
     "text": [
      "Чай = 4368\n",
      "Булка французкая = 11220\n",
      "Вино = 28700\n",
      "Килька запорожская = 15311\n"
     ]
    }
   ],
   "metadata": {}
  },
  {
   "cell_type": "code",
   "execution_count": 4,
   "source": [
    "# Написать функцию, возвращающую определение введенного слова.\r\n",
    "import json\r\n",
    "from difflib import get_close_matches\r\n",
    "import os\r\n",
    "from difflib import SequenceMatcher\r\n",
    "\r\n",
    "data = json.load(open(os.path.join(os.getcwd(),\"data\",\"dictionary.json\")))\r\n",
    "\r\n",
    "\r\n",
    "def translate(w):\r\n",
    "    v=[w,w.lower(),w.upper(), w.capitalize()]\r\n",
    "    for i in v:\r\n",
    "        if i in data:\r\n",
    "            return data[i]\r\n",
    "        elif len(get_close_matches(i, data.keys(),1)) > 0:\r\n",
    "            answer = input(f\"Did you mean {get_close_matches(i, data.keys(),1)[0]} instead? Enter Y if yes, or N if no: \")\r\n",
    "            if answer == \"Y\":\r\n",
    "                return data[get_close_matches(i, data.keys(),1)[0]]\r\n",
    "            elif answer == \"N\":\r\n",
    "                pass\r\n",
    "            else:\r\n",
    "                return \"We didn't understand your entry.\"\r\n",
    "    return \"The word doesn't exist. Please double check it.\"\r\n",
    "\r\n",
    "word = input(\"Enter word: \")\r\n",
    "output = translate(word)\r\n",
    "if type(output) == list:\r\n",
    "    for item in output:\r\n",
    "        print(item)\r\n",
    "else:\r\n",
    "    print(output)"
   ],
   "outputs": [
    {
     "output_type": "stream",
     "name": "stdout",
     "text": [
      "The grammatical construct of the time in which a sentence acts.\n",
      "The dimension of the physical universe which, at a given place, orders the sequence of events.\n",
      "To measure the amount of time an object takes to complete a course (e.g., \"to clock a race car\").\n",
      "The period of time a prisoner is imprisoned.\n",
      "A designated instant in time.\n",
      "An instance or occurrence of an event.\n"
     ]
    }
   ],
   "metadata": {}
  },
  {
   "cell_type": "code",
   "execution_count": null,
   "source": [],
   "outputs": [],
   "metadata": {}
  }
 ]
}